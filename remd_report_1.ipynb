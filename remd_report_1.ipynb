{
 "cells": [
  {
   "cell_type": "markdown",
   "metadata": {},
   "source": [
    "## **Replica Exchange Monte Carlo simulation of three dimensional hard-spheres system** ##\n",
    "\n",
    "### Introduction\n",
    "\n",
    "With the great advancement of computational science over the past decades, partly due to the rapid growth of computer technologies, scientists in many research fields are now attacking realistic problems with large degrees of freedom and complexity. When dealing with systems with rough energy landscape, simulations by conventional molecular dynamics (MD) or Monte Carlo (MC) methods are of little use, because at low temperatures they tend to get trapped in local-minimum energy states and sample only a very limited region of the configurational space. The development of new powerful simulation algorithms that can alleviate this difficulty is thus particularly important. One powerful algorithm is the replica-exchange method (REM).  In this method, a number of non-interacting copies of the original system at different temperatures are simulated independently and simultaneously by the conventional MD or MC methods. Every few steps, pairs of replicas are exchanged with a specified transition probability. This exchange process realizes a random walk in temperature space, which in turn induces a random walk in the energy space so that a wide configurational space can be sampled during the simulation. In this work, we tests the performance of replica-exchange method. This report is organized as follows. Set up section provides the parameters and functions embedded in the system with source code definition. Other sections shows results and discussion of REMC and non-exchange MC simulations. "
   ]
  },
  {
   "cell_type": "code",
   "execution_count": 1,
   "metadata": {
    "scrolled": true
   },
   "outputs": [
    {
     "data": {
      "text/html": [
       "\n",
       "        <iframe\n",
       "            width=\"600\"\n",
       "            height=\"600\"\n",
       "            src=\"system.html\"\n",
       "            frameborder=\"0\"\n",
       "            allowfullscreen\n",
       "        ></iframe>\n",
       "        "
      ],
      "text/plain": [
       "<IPython.lib.display.IFrame at 0x10870ccc0>"
      ]
     },
     "execution_count": 1,
     "metadata": {},
     "output_type": "execute_result"
    }
   ],
   "source": [
    "from IPython.display import IFrame\n",
    "IFrame(src='system.html', width=600, height=600)"
   ]
  },
  {
   "cell_type": "markdown",
   "metadata": {},
   "source": [
    "<img src=\"system.png\" style=\"width:300px;height:300px\"/>"
   ]
  },
  {
   "cell_type": "markdown",
   "metadata": {},
   "source": [
    "### Set up\n",
    "\n",
    "In this work, I apply the replica exchange MC method to a three dimensional hard-spheres Lennard-Jones system. The potential energy between a pair of particle i and j, separated by a distance $r_{ij}$, is defined by the following function, where $\\epsilon$ is the depth of the attractive well, and $\\sigma$ is a parameter that controls the size of the particles. In order to mimic bulk particle system interactions, periodic boundary conditions are employed (see above plot). The Lennard-Jones potential-energy function is truncated at a cutoff distance $r_c$.\n",
    "\n",
    "$U_{i j}=4 \\epsilon\\left[\\left(\\frac{\\sigma}{r_{i j}}\\right)^{12}-\\left(\\frac{\\sigma}{r_{i j}}\\right)^{6}\\right] \\space $ "
   ]
  },
  {
   "cell_type": "markdown",
   "metadata": {},
   "source": [
    "#### _Atom and configuration definition_"
   ]
  },
  {
   "cell_type": "code",
   "execution_count": 5,
   "metadata": {},
   "outputs": [],
   "source": [
    "class Atom:\n",
    "    x = y = z = 0.0\n",
    "    mass = 0.0 \n",
    "    radius = 0.0\n",
    "    energy = 0.0\n",
    "class Configuration:\n",
    "    def __init__(self,na):\n",
    "        self.natoms = na\n",
    "        self.COM = [0.0,0.0,0.0]\n",
    "        self.atom = []\n",
    "        for i in range(na):\n",
    "            self.atom.append(Atom())\n",
    "    #center of mass calculation\n",
    "    def CalcCOM(self):     \n",
    "        M = 0.0\n",
    "        sumx = sumy = sumz = 0.0\n",
    "        for i in range(0, self.natoms):\n",
    "            m = self.atom[i].mass\n",
    "            sumx += self.atom[i].x * m\n",
    "            sumy += self.atom[i].y * m\n",
    "            sumz += self.atom[i].z * m\n",
    "            M += m\n",
    "\n",
    "        Cx = sumx/M\n",
    "        Cy = sumy/M\n",
    "        Cz = sumz/M\n",
    "        self.COM[0]=Cx\n",
    "        self.COM[1]=Cy\n",
    "        self.COM[2]=Cz\n",
    "    #Radius of gyration calculation\n",
    "    def RadGyr(self):   \n",
    "        sumgyr = 0.0\n",
    "        M = 0.0\n",
    "        self.CalcCOM()\n",
    "        comx = self.COM[0]\n",
    "        comy = self.COM[1]\n",
    "        comz = self.COM[2]\n",
    "        for i in range(0, self.natoms):\n",
    "            M += self.atom[i].mass\n",
    "            mc = self.atom[i].mass\n",
    "            rx = self.atom[i].x\n",
    "            ry = self.atom[i].y\n",
    "            rz = self.atom[i].z\n",
    "            sgx = (rx - comx)**2.0\n",
    "            sgy = (ry - comy)**2.0\n",
    "            sgz = (rz - comz)**2.0\n",
    "\n",
    "            sumgyr += mc*(sgx+sgy+sgz)\n",
    "\n",
    "        Rsq = sumgyr / M\n",
    "        R = math.sqrt(Rsq)\n",
    "        return R"
   ]
  },
  {
   "cell_type": "markdown",
   "metadata": {},
   "source": [
    "#### _System parameters definition_"
   ]
  },
  {
   "cell_type": "code",
   "execution_count": null,
   "metadata": {},
   "outputs": [],
   "source": [
    "N = 10  #number of partical\n",
    "L = 15 #length of box\n",
    "d = L/N  #diameter of hard-sphere\n",
    "steps = 10000  #total steps\n",
    "sigma=1.5*d   #sigma in lj potential\n",
    "epsilon=2*d  #epsilon in lj potential\n",
    "temp=[300.00,362.00,436.00,520.00,600.00,670.00,750.00,830.00] #temperature k\n",
    "kb=1.38e-23*6.022e23/(1000)  #bolzmann constant kJ/mol\n",
    "cutoff=L/2-1  #cutoff of pair-wise interaction\n",
    "max_move=0.5  #maximum move \n",
    "mass = 12.0 #mass of partical\n",
    "center = [L/2,L/2,L/2] #center of box"
   ]
  },
  {
   "cell_type": "markdown",
   "metadata": {},
   "source": [
    "#### _Useful functions definition_"
   ]
  },
  {
   "cell_type": "code",
   "execution_count": null,
   "metadata": {},
   "outputs": [],
   "source": [
    "#check if inbox\n",
    "def inbox(x,y,z):     \n",
    "    if x > L-d/2:\n",
    "        x -= L-d\n",
    "    elif x < d/2:\n",
    "        x += L - d\n",
    "\n",
    "    if y > L-d/2:\n",
    "        y -= L-d\n",
    "    elif y < d/2:\n",
    "        y += L - d\n",
    "  \n",
    "    if z > L-d/2:\n",
    "        z -= L-d\n",
    "    elif z < d/2:\n",
    "        z += L - d   \n",
    "    return x,y,z\n",
    "#lj potential\n",
    "def lj_potential(r):\n",
    "    energy = 4*epsilon*((sigma/r)**12-(sigma/r)**6)\n",
    "    return energy\n",
    "#pair-wise interaction calculation\n",
    "def energy(r,x,y,z,n,compute_all):\n",
    "    '''compute total energy of system or one particle energy'''\n",
    "    if compute_all:\n",
    "        r[n][0],r[n][1],r[n][2]=x,y,z\n",
    "    x_left = list(r[:,0]-L)\n",
    "    x_right = list(r[:,0]+L)\n",
    "    y_left = list(r[:,1]-L)\n",
    "    y_right = list(r[:,1]+L)\n",
    "    z_left = list(r[:,2]-L)\n",
    "    z_right = list(r[:,2]+L)\n",
    "    all_box = np.array([(x_left*3+list(r[:,0])*3+x_right*3)*3, \\\n",
    "                        ((y_left+list(r[:,1])+y_right)*3)*3, \\\n",
    "                        z_right*9+list(r[:,2])*9+z_left*9])\n",
    "    all_box = all_box.transpose((1,0))\n",
    "    i = 13*N\n",
    "    distance = []\n",
    "    if compute_all: \n",
    "        while i < 14*N:\n",
    "            distance += [np.sqrt((all_box[i][0]-all_box[n][0])**2+ \\\n",
    "                                 (all_box[i][1]-all_box[n][1])**2+ \\\n",
    "                                 (all_box[i][2]-all_box[n][2])**2) for n in \\\n",
    "                         list(np.linspace(0,13*N-1,13*N,dtype=int))+ \\\n",
    "                         list(np.linspace(i+1,27*N-1,27*N-i-1,dtype=int))]\n",
    "            i += 1\n",
    "        energy = [lj_potential(d) for d in distance if d < cutoff and d > 0]\n",
    "        energy_sum = sum(energy)\n",
    "    else:      \n",
    "        r0 = np.array([[x for d in range(27*N)],[y for d in range(27*N)],\\\n",
    "                       [z for d in range(27*N)]]) \n",
    "        a = r0.transpose((1,0)) - all_box  #compare the updated particle coordinate with others\n",
    "        distance = [np.sqrt(a[i][0]**2+a[i][1]**2+a[i][2]**2) for i in range(27*N)]  #calculate distance     \n",
    "        Energy = [lj_potential(d) for d in distance if d < cutoff and d > 0]\n",
    "        energy_sum = sum(Energy)\n",
    "    return energy_sum\n",
    "#metropolis move criterion\n",
    "def move(r, x,y,z,n,e, diff_e, temp,accepted_step):                         \n",
    "    '''Metropolis Monte carlo move criterion'''\n",
    "    if diff_e < 0.0:\n",
    "        e = e_new\n",
    "        r[n][0],r[n][1],r[n][2] = inbox(x_new,y_new,z_new)\n",
    "        accepted_step+=1\n",
    "    else:\n",
    "        rand = random.uniform(0,1)\n",
    "        if math.exp(-diff_e/(kb*temp)) > rand:\n",
    "            e = e_new\n",
    "            accepted_step+=1\n",
    "            r[n][0],r[n][1],r[n][2] = inbox(x_new,y_new,z_new)\n",
    "    return r,e,accepted_step"
   ]
  },
  {
   "cell_type": "markdown",
   "metadata": {},
   "source": [
    "#### _Determine how to exchange_"
   ]
  },
  {
   "cell_type": "code",
   "execution_count": null,
   "metadata": {},
   "outputs": [],
   "source": [
    "def delta(temp1,temp2,energy1,energy2):\n",
    "    '''delta calculation'''\n",
    "    ddelta = (1/(kb*temp1) - 1/(kb*temp2))*(energy2-energy1)\n",
    "    return ddelta\n",
    "def exchange(frame,rg,energy,numexchg):\n",
    "    '''for eight replicas, we try to exchange different \n",
    "       adjacent replicas at odd and even enchange trials \n",
    "       following metropolis criterion.'''\n",
    "    exchg_order=[[[0,1],[2,3],[4,5],[6,7]],[[0,7],[1,2],[3,4],[5,6]]]\n",
    "    if numexchg % 2 == 0:\n",
    "        exchg_order = exchg_order[0]\n",
    "    else:\n",
    "        exchg_order = exchg_order[1]\n",
    "    for i in exchg_order:\n",
    "        dd = delta(temp[i[0]],temp[i[1]],energy[i[0]][(numexchg+1)*(steps+1)-1],energy[i[1]][(numexchg+1)*(steps+1)-1])\n",
    "        if dd <= 0:\n",
    "            frame[i[0]][(numexchg+1)*(steps+1)] = frame[i[1]][(numexchg+1)*(steps+1)-1]\n",
    "            frame[i[1]][(numexchg+1)*(steps+1)] = frame[i[0]][(numexchg+1)*(steps+1)-1]\n",
    "            energy[i[0]][(numexchg+1)*(steps+1)] = energy[i[1]][(numexchg+1)*(steps+1)-1]\n",
    "            energy[i[1]][(numexchg+1)*(steps+1)] = energy[i[0]][(numexchg+1)*(steps+1)-1]\n",
    "            rg[i[0]][(numexchg+1)*(steps+1)] = rg[i[1]][(numexchg+1)*(steps+1)-1]\n",
    "            rg[i[1]][(numexchg+1)*(steps+1)] = rg[i[0]][(numexchg+1)*(steps+1)-1]\n",
    "            temp_exchange[numexchg+1][i[0]] = temp_exchange[numexchg][i[1]]\n",
    "            temp_exchange[numexchg+1][i[1]] = temp_exchange[numexchg][i[0]]\n",
    "            accepted_exchange[numexchg][i[0]] = 1\n",
    "            accepted_exchange[numexchg][i[1]] = 1\n",
    "\n",
    "            accepted_exchange_ratio[numexchg][i[0]] = accepted_exchange[0:numexchg+1,i[0]].sum()/(numexchg+1)\n",
    "            accepted_exchange_ratio[numexchg][i[1]] = accepted_exchange[0:numexchg+1,i[1]].sum()/(numexchg+1)\n",
    "        else:\n",
    "            rand = random.uniform(0,1)\n",
    "            if math.exp(-dd) > rand:\n",
    "                frame[i[0]][(numexchg+1)*(steps+1)] = frame[i[1]][(numexchg+1)*(steps+1)-1]\n",
    "                frame[i[1]][(numexchg+1)*(steps+1)] = frame[i[0]][(numexchg+1)*(steps+1)-1]\n",
    "                energy[i[0]][(numexchg+1)*(steps+1)] = energy[i[1]][(numexchg+1)*(steps+1)-1]\n",
    "                energy[i[1]][(numexchg+1)*(steps+1)] = energy[i[0]][(numexchg+1)*(steps+1)-1]\n",
    "                rg[i[0]][(numexchg+1)*(steps+1)] = rg[i[1]][(numexchg+1)*(steps+1)-1]\n",
    "                rg[i[1]][(numexchg+1)*(steps+1)] = rg[i[0]][(numexchg+1)*(steps+1)-1]\n",
    "                temp_exchange[numexchg+1][i[0]] = temp_exchange[numexchg][i[1]]\n",
    "                temp_exchange[numexchg+1][i[1]] = temp_exchange[numexchg][i[0]]\n",
    "                accepted_exchange[numexchg][i[0]] = 1\n",
    "                accepted_exchange[numexchg][i[1]] = 1\n",
    "                accepted_exchange_ratio[numexchg][i[0]] = accepted_exchange[0:numexchg+1,i[0]].sum()/(numexchg+1)\n",
    "                accepted_exchange_ratio[numexchg][i[1]] = accepted_exchange[0:numexchg+1,i[1]].sum()/(numexchg+1)\n",
    "            else:\n",
    "                frame[i[0]][(numexchg+1)*(steps+1)] = frame[i[0]][(numexchg+1)*(steps+1)-1]\n",
    "                frame[i[1]][(numexchg+1)*(steps+1)] = frame[i[1]][(numexchg+1)*(steps+1)-1]\n",
    "                energy[i[0]][(numexchg+1)*(steps+1)] = energy[i[0]][(numexchg+1)*(steps+1)-1]\n",
    "                energy[i[1]][(numexchg+1)*(steps+1)] = energy[i[1]][(numexchg+1)*(steps+1)-1]\n",
    "                rg[i[0]][(numexchg+1)*(steps+1)] = rg[i[0]][(numexchg+1)*(steps+1)-1]\n",
    "                rg[i[1]][(numexchg+1)*(steps+1)] = rg[i[1]][(numexchg+1)*(steps+1)-1]\n",
    "                temp_exchange[numexchg+1][i[0]] = temp_exchange[numexchg][i[0]]\n",
    "                temp_exchange[numexchg+1][i[1]] = temp_exchange[numexchg][i[1]]\n",
    "                accepted_exchange[numexchg][i[0]] = 0\n",
    "                accepted_exchange[numexchg][i[1]] = 0\n",
    "                accepted_exchange_ratio[numexchg][i[0]] = accepted_exchange[0:numexchg+1,i[0]].sum()/(numexchg+1)\n",
    "                accepted_exchange_ratio[numexchg][i[1]] = accepted_exchange[0:numexchg+1,i[1]].sum()/(numexchg+1)"
   ]
  },
  {
   "cell_type": "markdown",
   "metadata": {},
   "source": [
    "#### _system initialization_"
   ]
  },
  {
   "cell_type": "code",
   "execution_count": null,
   "metadata": {},
   "outputs": [],
   "source": [
    "c = Configuration(N) \n",
    "#initial random coordinates\n",
    "for index in range(N):\n",
    "    c.atom[index].x = center[0]+ (L-d) * (random.random()-0.5)\n",
    "    c.atom[index].y = center[1]+ (L-d) * (random.random()-0.5)\n",
    "    c.atom[index].z = center[2]+ (L-d) * (random.random()-0.5)\n",
    "    c.atom[index].mass = mass\n",
    "    c.atom[index].radius = d/2\n",
    "point = np.array([[c.atom[i].x for i in range(N)],[c.atom[i].y for i in range(N)],\n",
    "                  [c.atom[i].z for i in range(N)]])\n",
    "point = point.transpose((1,0))\n",
    "e = energy(point,0,0,0,0,compute_all=True)\n",
    "#output matrix \n",
    "all_energy = np.zeros(steps+1)\n",
    "all_energy[0]=e\n",
    "all_frame = np.zeros((steps+1,N,3))\n",
    "all_frame[0] = point\n",
    "all_accepted_ratio=[]\n",
    "accepted_step=0\n",
    "average_energy= np.zeros(steps+1)\n",
    "average_energy[0] = e\n",
    "RG = np.zeros(steps+1)\n",
    "RG[0] = c.RadGyr()\n",
    "all_particle_energy = np.zeros((steps,N))"
   ]
  },
  {
   "cell_type": "markdown",
   "metadata": {},
   "source": [
    "#### _running replica exchange Monte carlo simulation_"
   ]
  },
  {
   "cell_type": "code",
   "execution_count": null,
   "metadata": {},
   "outputs": [],
   "source": [
    "for n in range(numexchg):\n",
    "    for t in range(len(temp)):\n",
    "        x_init = all_frame[t][n*(steps+1)][:,0]\n",
    "        y_init = all_frame[t][n*(steps+1)][:,1]\n",
    "        z_init = all_frame[t][n*(steps+1)][:,2]\n",
    "        e = all_energy[t][n*(steps+1)]\n",
    "        point = np.array([x_init,y_init,z_init])\n",
    "        point = point.transpose((1,0))\n",
    "        for i in range(steps):\n",
    "            for m in range(N): \n",
    "                x,y,z = point[m][0],point[m][1],point[m][2]\n",
    "                x_new = x+max_move*random.uniform(-1,1)\n",
    "                y_new = y+max_move*random.uniform(-1,1)\n",
    "                z_new = z+max_move*random.uniform(-1,1)\n",
    "                e_new = energy(point,x_new,y_new,z_new,m,compute_all=True)\n",
    "                diff_e = e_new - e\n",
    "                point, e = move(point,x_new,y_new,z_new,m,e,diff_e,temp[t])\n",
    "                c.atom[m].x,c.atom[m].y,c.atom[m].z = point[m][0],point[m][1],point[m][2]          \n",
    "            RG[t][i+1+(steps+1)*n] = c.RadGyr() \n",
    "            all_energy[t][i+1+(steps+1)*n] = e\n",
    "            all_frame[t][i+1+(steps+1)*n] = point      \n",
    "            average_energy[t][i+1+(steps+1)*n] = all_energy[t][0:i+2+(steps+1)*n].sum()/(i+2+(steps+1)*n)\n",
    "    exchange(all_frame,RG,all_energy,n)"
   ]
  },
  {
   "cell_type": "markdown",
   "metadata": {},
   "source": [
    "### Results \n",
    "\n",
    "#### 1. Non-exchange Monte Carlo\n",
    "\n",
    "In the beginning, I tried to run 500000 steps for a system with 50 hard-spheres under 300 K, however, it would take more than one day to finish due to the low efficiency of my code. Then, I tried to run 50000 steps for a smaller system with 10 hard-spheres under 300 K. The total energy and average energy of system are showed in the following figure, from which we can see it has not completely converged and proper treatment such as doing minimization before simulation and running longer equilibration may be helpful.\n",
    "<img src=\"std_energy.png\" style=\"width:600px;height:300px\"/>\n",
    "\n",
    "#### 2. Acceptance rates vs T/epsilon pairs\n",
    "\n",
    "A set of MC simulations without exchange were done with different temperatures and epsilons. From the results showed in the following table, we can see the trend that the acceptance rates decrease with the increase of epsilon and decrease of temperature. It reflects that hiigher temperature would help to avoid getting trapped in the local minima along energy surface. This trend is not perfectly followed, which may be because more steps are needed to make sure all simulations are converged. (Each T/epsilon pair is run for only 5000 steps) \n",
    "\n",
    "| Temperature/Epsilon | 0.75 | 1.50 | 3.0 | 7.50 |\n",
    "| --- | --- | --- | --- | --- |\n",
    "| 200.00 | 0.58 | 0.49 | 0.31 | 0.02 |\n",
    "| 246.00 | 0.58 | 0.57 | 0.35 | 0.05 |\n",
    "| 300.00 | 0.58 | 0.57 | 0.46 | 0.18 |\n",
    "| 362.00 | 0.72 | 0.65 | 0.46 | 0.10 |\n",
    "| 436.00 | 0.64 | 0.52 | 0.43 | 0.20 |\n",
    "| 520.00 | 0.67 | 0.61 | 0.42 | 0.26 |\n",
    "\n",
    "\n",
    "#### 3. Temperature exchange \n",
    "\n",
    "In this work, we had eight replicas with same starting conformation under different temperature. Each replica follows the routine with same non-exchange monte carlo steps and one exchange trial. The temperature exchange is showed in the following figure, from which we can see exchange between two replicas were accepted many times. The following table showed the exchange accepted ratio between nearby replicas. Two things should be pointed out: 1) the accepted ratio from walker_1 to walker_7 are equally high, which is expected to happen and this also shows the choosed temperatures are helpful for exchange. 2) the accepted ratio of walker_1 and walker_8 are lower because they tried to exchange with each other along simulation, which showed in the above code, but exchange between these two replicas are hardly accepted because the energy difference is relatively large. <img src=\"plot_temp_ex_dataframe_100.png\" style=\"width:400px;height:300px\"/>\n",
    "\n",
    "| | Walker_1 | Walker_2 | Walker_3 | Walker_4 | Walker_5 | Walker_6 | Walker_7 | Walker_8 |\n",
    "| --- | --- | --- | --- | --- | --- | --- | --- | --- |\n",
    "| Exchange accepted ratio | 0.76 | 0.91 | 0.91 | 0.91 | 0.94 | 0.95 | 0.93 | 0.77 |\n",
    "\n",
    "#### 4. REMC energy comparison with non-exchange MC\n",
    "\n",
    "Energy calculation is important for further study with other thermodynamic properties. The key advantage of replica exchange method is to sample broadly on energy surface under high temperature, which can be seen in the following figure. Each line represents the energy value under each temperature. The total energy shows that REMC can sample much more on energy surface compared with non-exchange MC in section 1. under 300 K. It also reflects the fact that the average energy along simulation is lower under lower temperature.\n",
    "\n",
    "<img src=\"./remd_100_energy.png\" style=\"width:600px;height:300px\"/>\n",
    "\n",
    "In order to check the performance of REMC, the energy is compared with non-exchange MC simulations under the same set of temperatures. We can see non-exchange MC showed similar behavior with different temperture and the avrerage energy compared in the following figure showed the performance of REMC except the replica under 520 K, which doesn't match the average energy value in non-exchange MC.\n",
    "\n",
    "<img src=\"non_exchg_energy.png\" style=\"width:900px;height:300px\"/>\n",
    "\n",
    "#### 5. Radius of gyration\n",
    "\n",
    "A radius of gyration in general is the distance from the center of mass of a body at which the whole mass could be concentrated without changing its moment of rotational inertia about an axis through the center of mass. The calculation is wrapped as a function in configuration class showed in the above code. The following plot illustrates the comparison of average radius of gyration between REMC and on-exchange MC.\n",
    "\n",
    "<img src=\"rg_compare.png\" style=\"width:300px;height:300px\"/>"
   ]
  },
  {
   "cell_type": "markdown",
   "metadata": {},
   "source": [
    "### Discussion\n",
    "\n",
    "In this report, we can see the comparison of performance between replica exchange method and conventional Monte Carlo simulation. Due to time limit, non-exchange MC has not completely converged after 50000 steps metropolis move. Simulations by taking advantage of replica exchange showed expected performance on configurational space sampling and avoiding getting trapped in local minimum energy states with only 10000 steps in total for each replica (100 metropolis move and 100 exchange trials). The high accepted exchange ratio may be caused by the simiplicity of system, which makes the energy difference low between each two replicas and thus increases the accepted exchange ratio. In more complicated systems like protein, the accepted exchange ratio are expected to be much lower. \n",
    "\n",
    "#### Note\n",
    "Some researches point out more exchange trials would make replica exchange method more efficient. Similar calculations (50 metropolis move and 200 exchange trials;100 metropolis move and 100 exchange trials; 200 metropolis move and 50 exchange trials) are done, but the simulation has not finished and results will be analyzed later. \n",
    "The low efficiency of my code comes from energy calculation because after each atomic metropolis move, it will calculate all interactions in the system, which should be achieved by only calculating interaction around the atom after its move. However, I did in the above cheaper way before, but the output of atomic energy is as low as -100000, which is clearly wrong by analytically calculating of defined L-J potentials of single atom. Therefore, I had to use the much more expensive way and it will be fixed later. "
   ]
  },
  {
   "cell_type": "code",
   "execution_count": null,
   "metadata": {},
   "outputs": [],
   "source": []
  }
 ],
 "metadata": {
  "hide_input": false,
  "kernelspec": {
   "display_name": "Python 3",
   "language": "python",
   "name": "python3"
  },
  "language_info": {
   "codemirror_mode": {
    "name": "ipython",
    "version": 3
   },
   "file_extension": ".py",
   "mimetype": "text/x-python",
   "name": "python",
   "nbconvert_exporter": "python",
   "pygments_lexer": "ipython3",
   "version": "3.6.10"
  }
 },
 "nbformat": 4,
 "nbformat_minor": 4
}
